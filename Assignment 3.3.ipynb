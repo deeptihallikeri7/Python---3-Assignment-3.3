{
 "cells": [
  {
   "cell_type": "code",
   "execution_count": 33,
   "metadata": {},
   "outputs": [],
   "source": [
    "def longestword(lwords):\n",
    "    from functools import reduce\n",
    "    x = reduce(lambda a,b : a if (len(a) > len(b)) else b, lwords)\n",
    "    print(\"The longest word in the list is : \", x)"
   ]
  },
  {
   "cell_type": "code",
   "execution_count": 35,
   "metadata": {},
   "outputs": [
    {
     "name": "stdout",
     "output_type": "stream",
     "text": [
      "The longest word in the list is :  eleven\n"
     ]
    }
   ],
   "source": [
    "lwords = ['two', 'three', 'eleven', 'one', 'seven', 'nine']\n",
    "longestword(lwords)"
   ]
  }
 ],
 "metadata": {
  "kernelspec": {
   "display_name": "Python 3",
   "language": "python",
   "name": "python3"
  },
  "language_info": {
   "codemirror_mode": {
    "name": "ipython",
    "version": 3
   },
   "file_extension": ".py",
   "mimetype": "text/x-python",
   "name": "python",
   "nbconvert_exporter": "python",
   "pygments_lexer": "ipython3",
   "version": "3.6.4"
  }
 },
 "nbformat": 4,
 "nbformat_minor": 2
}
